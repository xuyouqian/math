{
 "cells": [
  {
   "cell_type": "markdown",
   "id": "2882dd2b",
   "metadata": {},
   "source": [
    "# 正交基\n",
    "\n",
    "### 正交基和标准正交基\n",
    "\n",
    "正交集合\n",
    "\n",
    "如果一个集合中所有向量两两正交，这个集合就是正交集合\n",
    "\n",
    "根据定义，只有一个向量的集合是正交集合。\n",
    "\n",
    "一个不包含0向量的集合是独立的。\n",
    "\n",
    "证明："
   ]
  },
  {
   "cell_type": "markdown",
   "id": "8be3d9cc",
   "metadata": {},
   "source": [
    "<img src=\"https://raw.githubusercontent.com/xuyouqian/picgo/master/20210627142448.png\"/>"
   ]
  },
  {
   "cell_type": "markdown",
   "id": "3378b85d",
   "metadata": {},
   "source": [
    "标准正交集合\n",
    "\n",
    "如果一个正交集合中每个向量的范数都是1，就叫标准正交集合\n",
    "\n",
    "<img src=\"https://raw.githubusercontent.com/xuyouqian/picgo/master/20210627140440.png\"/>\n",
    "\n",
    "如果一个基是正交集合或者标准正交集合，称为正交基或者标准正交基\n",
    "\n",
    "### 正交分解理论\n",
    "<img src=\"https://raw.githubusercontent.com/xuyouqian/picgo/master/20210627142552.png\"/>\n",
    "<img src=\"https://raw.githubusercontent.com/xuyouqian/picgo/master/20210627141239.png\"/>\n",
    "\n",
    "证明\n",
    "<img src=\"https://raw.githubusercontent.com/xuyouqian/picgo/master/20210627141325.png\"/>\n",
    "\n",
    "<img src=\"https://raw.githubusercontent.com/xuyouqian/picgo/master/20210627142727.png\"/>"
   ]
  },
  {
   "cell_type": "markdown",
   "id": "3bed3b6b",
   "metadata": {},
   "source": [
    "<img src=\"https://raw.githubusercontent.com/xuyouqian/picgo/master/20210627141900.png\"/>"
   ]
  },
  {
   "cell_type": "markdown",
   "id": "a8df6853",
   "metadata": {},
   "source": [
    "### 怎样找出正交基\n",
    "\n",
    "\n",
    "\n",
    "<img src=\"https://raw.githubusercontent.com/xuyouqian/picgo/master/20210627143348.png\"/>\n",
    "<img src=\"https://raw.githubusercontent.com/xuyouqian/picgo/master/20210627142304.png\"/>"
   ]
  },
  {
   "cell_type": "markdown",
   "id": "4da03170",
   "metadata": {},
   "source": [
    "证明他们能构成正交基\n",
    "<img src=\"https://raw.githubusercontent.com/xuyouqian/picgo/master/20210627153834.png\"/>\n",
    "<img src=\"https://raw.githubusercontent.com/xuyouqian/picgo/master/20210627153856.png\"/>"
   ]
  },
  {
   "cell_type": "code",
   "execution_count": null,
   "id": "b6e8ea14",
   "metadata": {},
   "outputs": [],
   "source": []
  }
 ],
 "metadata": {
  "kernelspec": {
   "display_name": "Python 3",
   "language": "python",
   "name": "python3"
  },
  "language_info": {
   "codemirror_mode": {
    "name": "ipython",
    "version": 3
   },
   "file_extension": ".py",
   "mimetype": "text/x-python",
   "name": "python",
   "nbconvert_exporter": "python",
   "pygments_lexer": "ipython3",
   "version": "3.6.8"
  }
 },
 "nbformat": 4,
 "nbformat_minor": 5
}
