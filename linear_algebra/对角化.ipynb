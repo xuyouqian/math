{
 "cells": [
  {
   "cell_type": "markdown",
   "id": "26b8a32b",
   "metadata": {},
   "source": [
    "# 对角化\n",
    "\n",
    "$$\n",
    "如果一个n*n的矩阵A=P\\cdot D \\cdot P^{-1}\\\\\n",
    "其中P 是 n*n的可逆矩阵\\\\\n",
    "D 是n \\times n的对角矩阵\\\\\n",
    "就说A是可对角化的\\\\\n",
    "$$\n",
    "\n",
    "如果一个矩阵可对角化，就是说在其他坐标系下，他是对角矩阵\n",
    "\n",
    "### 不是所有的方阵都可以被对角化\n",
    "\n",
    "证明:\n",
    "$$\n",
    "A = \\left[ \\begin{matrix} 0&1\\\\0&0 \\end{matrix} \\right]\\\\\n",
    "A \\cdot A = 0\\\\\n",
    "假设A可以被对角化\\\\\n",
    "A = P\\cdot D \\cdot P^{-1}\\\\\n",
    "A \\cdot A = P\\cdot D \\cdot P^{-1}\\cdot (P\\cdot D \\cdot P^{-1})\\\\\n",
    "=P\\cdot D \\cdot P^{-1}\\cdot P\\cdot D \\cdot P^{-1}\\\\\n",
    "= P\\cdot D \\cdot I\\cdot D \\cdot P^{-1}\\\\\n",
    "= P\\cdot D \\cdot  D \\cdot P^{-1}= 0\\\\\n",
    "两边都乘以P^{-1}\\\\\n",
    "P^{-1}\\cdot P\\cdot D \\cdot  D \\cdot P^{-1}= 0\\\\\n",
    "D \\cdot  D \\cdot P^{-1} = 0\\\\\n",
    "D \\cdot  D = 0\\\\\n",
    "因为D是对角阵\\\\\n",
    "所以D = 0\\\\\n",
    " A = P\\cdot D \\cdot P^{-1} = 0\n",
    " 这根A原来的值矛盾\\\\\n",
    " 所以A不可以对角化\n",
    "$$\n",
    "\n",
    "### 如何对角化\n",
    "\n",
    "$$\n",
    "如果A可以对角化\\\\\n",
    "A = PDP^{-1}  ---->AP= PD\\\\\n",
    "令P = [p_1\\quad...\\quad p_N]\\\\\n",
    "D = \\left[ \\begin{matrix} d_1&...&0\\\\: &...&:\\\\0&...&d_n \\end{matrix} \\right]\\\\\n",
    "e_1 = \\left[ \\begin{matrix} 1\\\\:\\\\0 \\end{matrix} \\right]\\\\\n",
    "e_2 = \\left[ \\begin{matrix} 0\\\\1\\\\:\\\\0 \\end{matrix} \\right]\\\\\n",
    "那么\\\\\n",
    "AP = \\left[ \\begin{matrix} Ap_1&...&Ap_n \\end{matrix} \\right]\\\\\n",
    "PD = P\\left[ \\begin{matrix} d_1e_1&...&d_ne_n \\end{matrix} \\right]\\\\\n",
    "= \\left[ \\begin{matrix} Pd_1e_1&...&Pd_ne_n \\end{matrix} \\right]\\\\=\n",
    "\\left[ \\begin{matrix} d_1Pe_1&...&d_nPe_n \\end{matrix} \\right]\\\\\n",
    "=\\left[ \\begin{matrix} d_1p_1&...&d_np_n \\end{matrix} \\right]\\\\\n",
    "可知 d_ip_i = Ap_i\n",
    "$$\n",
    "\n",
    "$$\n",
    "所以 每一个p_i 都是A 的特征向量，又因为P是可逆矩阵，所以它的每一列都是互相独立的。\\\\\n",
    "所以n \\times n的矩阵A可对角化等价于\\\\\n",
    "A有n个相互独立的特征矩阵\\\\\n",
    "等价于这n个特征向量是R^n 的基\\\\\n",
    "$$\n",
    "\n",
    "<img src=\"https://raw.githubusercontent.com/xuyouqian/picgo/master/20210624165326.png\"/>\n",
    "\n",
    "证明用反证法:\n",
    "\n",
    "<img src=\"https://raw.githubusercontent.com/xuyouqian/picgo/master/20210624170341.png\"/>\n",
    "$$\n",
    "如果不独立，假设第k个可以由其他的k-1个互相独立特征向量线性表示:\\\\\n",
    "v_k = c_1v_1 + ...+c_{k-1}v_{k-1}    ①\\\\\n",
    "左右两边同时乘以A\\\\\n",
    "Av_k = c_1Av_1 + ...+ c_{k-1}Av_{k-1} ②\\\\\n",
    "\\lambda_kv_k = c_1\\lambda_1v_1+...+c_{k-1}\\lambda_{k-1}v_{k-1} ③\\\\\n",
    "让①\\times\\lambda_k\\\\\n",
    "\\lambda_kv_k = c_1\\lambda_kv_1 + ...+c_{k-1}\\lambda_kv_{k-1}  ④ \\\\\n",
    "让③-④\\\\\n",
    "0 = c_1(\\lambda_1-\\lambda_k)v_1 + c_{k-1}(\\lambda_{k-1}-\\lambda_k)v_{k-1}\\\\\n",
    "因为v_1...v_k互相独立\\\\\n",
    "所以系数必须全部为0\\\\\n",
    "又因为c_1,...c_{k-1}不全为零,所以必然存在\\lambda_i = \\lambda_k\\\\与假设矛盾\n",
    "$$\n",
    "<img src=\"https://raw.githubusercontent.com/xuyouqian/picgo/master/20210624171801.png\"/>\n",
    "\n",
    "**对角化步骤**\n",
    "$$\n",
    "A = PDP^{-1}\\\\\n",
    "det(A-t I_n) = 0\\\\\n",
    "= (t-\\lambda_1)^{m_1}...(t-\\lambda_k)^{m_k} 求解到k个特征值\n",
    "$$\n",
    "<img src=\"https://raw.githubusercontent.com/xuyouqian/picgo/master/20210624173904.png\"/>\n",
    "\n",
    "如果所有的基加起来有n个，就说明可以对角化，否则不可以。\n",
    "\n",
    "### 对角化举例\n",
    "\n"
   ]
  },
  {
   "cell_type": "markdown",
   "id": "cabaea66",
   "metadata": {},
   "source": [
    "\n",
    "<img src=\"https://raw.githubusercontent.com/xuyouqian/picgo/master/20210624193248.png\"/>\n",
    "<img src=\"https://raw.githubusercontent.com/xuyouqian/picgo/master/20210624193311.png\"/>"
   ]
  },
  {
   "cell_type": "code",
   "execution_count": 1,
   "id": "f31ba58b",
   "metadata": {},
   "outputs": [
    {
     "data": {
      "text/plain": [
       "array([[0, 1, 1],\n",
       "       [0, 0, 0],\n",
       "       [0, 0, 0]])"
      ]
     },
     "execution_count": 1,
     "metadata": {},
     "output_type": "execute_result"
    }
   ],
   "source": [
    "# 使用python 求行简化阶梯形\n",
    "import numpy as np\n",
    "from sympy import Matrix\n",
    "from sympy.matrices import dense\n",
    "\n",
    "# 把 sympy 转成 numpy 数组\n",
    "A_mat = Matrix([[1, 2, 1, 1], [2, 1, -2, -2], [1, -1, -4, 3]])\n",
    "A_arr1 = np.array(A_mat.tolist()).astype(np.int32)\n",
    "A_arr2 = dense.matrix2numpy(A_mat, dtype=np.int32)\n",
    "\n",
    "# 把 numpy 数组 转成 sympy矩阵\n",
    "B_arr = np.array([[1, 2, 1, 1], [2, 1, -2, -2], [1, -1, -4, 3]])\n",
    "B_mat = Matrix(B_arr)\n",
    "\n",
    "# RREF求行简化阶梯型\n",
    "A = Matrix([[0, 0, 0], [0, 2, 2], [0, 2, 2]])\n",
    "A_rref = np.array(A.rref()[0].tolist()).astype(np.int32)\n",
    "A_rref"
   ]
  },
  {
   "cell_type": "markdown",
   "id": "8dedc47f",
   "metadata": {
    "collapsed": true
   },
   "source": [
    "### 对角化的意义\n",
    "\n",
    "一个方阵经过对角化变成对角矩阵<img src=\"https://raw.githubusercontent.com/xuyouqian/picgo/master/20210625132655.png\"/>\n",
    "\n",
    "根据坐标系下的线性变换知识\n",
    "\n",
    "其实D可以看作在以P的逆作为坐标系的世界里的A\n",
    "\n",
    "也就是说一个复杂的变换经过对角化近变成另一个坐标系里简单的变化"
   ]
  },
  {
   "cell_type": "markdown",
   "id": "94fb7873",
   "metadata": {},
   "source": [
    "<img src=\"https://raw.githubusercontent.com/xuyouqian/picgo/master/20210625133414.png\"/>\n",
    "<img src=\"https://raw.githubusercontent.com/xuyouqian/picgo/master/20210625134000.png\"/>"
   ]
  },
  {
   "cell_type": "code",
   "execution_count": null,
   "id": "07c9cd2c",
   "metadata": {},
   "outputs": [],
   "source": []
  }
 ],
 "metadata": {
  "kernelspec": {
   "display_name": "Python 3",
   "language": "python",
   "name": "python3"
  },
  "language_info": {
   "codemirror_mode": {
    "name": "ipython",
    "version": 3
   },
   "file_extension": ".py",
   "mimetype": "text/x-python",
   "name": "python",
   "nbconvert_exporter": "python",
   "pygments_lexer": "ipython3",
   "version": "3.6.8"
  }
 },
 "nbformat": 4,
 "nbformat_minor": 5
}
