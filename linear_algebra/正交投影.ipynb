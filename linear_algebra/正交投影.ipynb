{
 "cells": [
  {
   "cell_type": "markdown",
   "id": "c9278129",
   "metadata": {},
   "source": [
    "# 正交投影\n",
    "\n",
    "### 正交补集\n",
    "\n",
    "<img src=\"https://raw.githubusercontent.com/xuyouqian/picgo/master/20210625162329.png\"/>\n",
    "\n",
    "比如S是二维空间中W线上的向量，正交补集就是跟他垂直的线上的向量，如果S是二维空间中所有的向量，正交补集就是{0}\n",
    "\n",
    "正交补集的性质\n",
    "\n",
    "<img src=\"https://raw.githubusercontent.com/xuyouqian/picgo/master/20210625164956.png\"/>\n",
    "\n",
    "这个就太直观了：\n",
    "<img src=\"https://raw.githubusercontent.com/xuyouqian/picgo/master/20210625165230.png\"/>"
   ]
  },
  {
   "cell_type": "markdown",
   "id": "c1edb5ec",
   "metadata": {},
   "source": [
    "<img src=\"https://raw.githubusercontent.com/xuyouqian/picgo/master/20210625165413.png\"/>\n",
    "\n",
    "这个也很直观\n",
    "\n",
    "随便你怎么线性组合正交补集的向量，他依然与对应的所有S里的向量正交\n",
    "\n",
    "<img src=\"https://raw.githubusercontent.com/xuyouqian/picgo/master/20210625165851.png\"/>\n",
    "\n",
    "因为W = （Span B）\n",
    "\n",
    "根据第二条性质也很直观\n",
    "\n",
    "<img src=\"https://raw.githubusercontent.com/xuyouqian/picgo/master/20210625170227.png\"/>\n",
    "\n",
    "假设u同时属于S和S的正交补集,那么u跟自己做内积肯定是0\n",
    "\n",
    "所以u也是0\n",
    "\n",
    "<img src=\"https://raw.githubusercontent.com/xuyouqian/picgo/master/20210625171552.png\"/>\n",
    "\n",
    "A的行空间的正交补集等于A的零空间"
   ]
  },
  {
   "cell_type": "markdown",
   "id": "3959a8b4",
   "metadata": {},
   "source": [
    "<img src=\"https://raw.githubusercontent.com/xuyouqian/picgo/master/20210625173528.png\"/>"
   ]
  },
  {
   "cell_type": "markdown",
   "id": "eb24dc05",
   "metadata": {},
   "source": [
    "同样易知 只要把A替换成A的转置就可以\n",
    "\n",
    "<img src=\"https://raw.githubusercontent.com/xuyouqian/picgo/master/20210625173805.png\"/>\n",
    "比如说一个三维空间，某一个子空间是一个平面，它的维度是2，跟他正交的肯定是一条直线，维度是1 加起来是3\n",
    "\n",
    "如果子空间就是这个三维空间，正交补集就是0 ，维度和也是3\n",
    "\n",
    "证明：\n",
    "<img src=\"https://raw.githubusercontent.com/xuyouqian/picgo/master/20210625183722.png\"/>"
   ]
  },
  {
   "cell_type": "markdown",
   "id": "4e084c48",
   "metadata": {},
   "source": [
    "<img src=\"https://raw.githubusercontent.com/xuyouqian/picgo/master/20210625184356.png\"/>\n",
    "<img src=\"https://raw.githubusercontent.com/xuyouqian/picgo/master/20210625185210.png\"/>"
   ]
  },
  {
   "cell_type": "markdown",
   "id": "d4a45b7b",
   "metadata": {},
   "source": [
    "<img src=\"https://raw.githubusercontent.com/xuyouqian/picgo/master/20210625185948.png\"/>\n",
    "<img src=\"https://raw.githubusercontent.com/xuyouqian/picgo/master/20210625191429.png\"/>"
   ]
  },
  {
   "cell_type": "markdown",
   "id": "9ecb9360",
   "metadata": {},
   "source": [
    "### 什么是正交投影\n",
    "\n",
    "<img src=\"https://raw.githubusercontent.com/xuyouqian/picgo/master/20210625191734.png\"/>\n",
    "找出w的部分这个过程也是线性的变换\n",
    "<img src=\"https://raw.githubusercontent.com/xuyouqian/picgo/master/20210625192514.png\"/>"
   ]
  },
  {
   "cell_type": "markdown",
   "id": "29398615",
   "metadata": {},
   "source": [
    "<img src=\"https://raw.githubusercontent.com/xuyouqian/picgo/master/20210626045929.png\"/>\n"
   ]
  },
  {
   "cell_type": "markdown",
   "id": "3ba13545",
   "metadata": {},
   "source": [
    "<img src=\"https://raw.githubusercontent.com/xuyouqian/picgo/master/20210626051440.png\"/>"
   ]
  },
  {
   "cell_type": "markdown",
   "id": "da178138",
   "metadata": {},
   "source": []
  },
  {
   "cell_type": "markdown",
   "id": "78f10fc0",
   "metadata": {},
   "source": [
    "### 如何计算正交投影\n",
    "\n",
    "求正交投影的过程也是一个线性变换\n",
    "\n",
    "已知一个向量u 求他在子空间W上的正交投影w：\n",
    "\n",
    "<img src=\"https://raw.githubusercontent.com/xuyouqian/picgo/master/20210626051847.png\"/>\n",
    "\n",
    "拿这个公式来验证一下："
   ]
  },
  {
   "attachments": {},
   "cell_type": "markdown",
   "id": "279f8804",
   "metadata": {},
   "source": [
    "<img src=\"https://raw.githubusercontent.com/xuyouqian/picgo/master/20210627122843.png\"/>"
   ]
  },
  {
   "cell_type": "code",
   "execution_count": 1,
   "id": "4955ab1c",
   "metadata": {},
   "outputs": [
    {
     "name": "stdout",
     "output_type": "stream",
     "text": [
      "在y=x上的投影:\n",
      " [[2.5]\n",
      " [2.5]]\n",
      "在y=-x上的投影:\n",
      " [[-1.5]\n",
      " [ 1.5]]\n",
      "投影之和:\n",
      " [[1.]\n",
      " [4.]]\n"
     ]
    }
   ],
   "source": [
    "import numpy as np\n",
    "\n",
    "\n",
    "def orthogonal_projection(v, c):\n",
    "    cTc = c.T.dot(c)\n",
    "    cTc_ni = np.linalg.inv(cTc)\n",
    "    w = c.dot(cTc_ni).dot(c.T).dot(v)\n",
    "    return w\n",
    "\n",
    "\n",
    "v = np.array([\n",
    "    [1],\n",
    "    [4]\n",
    "])\n",
    "\n",
    "c = np.array([\n",
    "    [1],\n",
    "    [1]\n",
    "])\n",
    "c_1 = np.array([\n",
    "    [1],\n",
    "    [-1]\n",
    "])\n",
    "y_x = orthogonal_projection(v, c)\n",
    "y__x = orthogonal_projection(v, c_1)\n",
    "print('在y=x上的投影:\\n', y_x)\n",
    "print('在y=-x上的投影:\\n', y__x)\n",
    "print('投影之和:\\n', y_x + y__x)\n"
   ]
  },
  {
   "cell_type": "markdown",
   "id": "b4c3b293",
   "metadata": {},
   "source": [
    "这个公式成立的前提是C乘以C的转置是可逆的，接下来进行证明:"
   ]
  },
  {
   "cell_type": "markdown",
   "id": "78d290fd",
   "metadata": {},
   "source": [
    "<img src=\"https://raw.githubusercontent.com/xuyouqian/picgo/master/20210627122944.png\"/>"
   ]
  },
  {
   "cell_type": "markdown",
   "id": "59ea69d0",
   "metadata": {},
   "source": [
    "如何记忆这个公式\n",
    "\n",
    "<img src=\"https://raw.githubusercontent.com/xuyouqian/picgo/master/20210627110458.png\"/>\n",
    "\n",
    "其实这个公式就是丁丁\n",
    "\n",
    "<img src=\"https://raw.githubusercontent.com/xuyouqian/picgo/master/20210627110615.png\"/>\n",
    "\n",
    "<img src=\"https://raw.githubusercontent.com/xuyouqian/picgo/master/20210627110814.png\"/>\n",
    "\n",
    "有一天他右边的耳朵掉了，然后用锤子和钉子给他订上，但是钉反了\n",
    "\n",
    "\n",
    "\n",
    "<img src=\"https://raw.githubusercontent.com/xuyouqian/picgo/master/20210627111046.png\"/>\n",
    "\n",
    "### 正交投影的应用"
   ]
  },
  {
   "cell_type": "markdown",
   "id": "203d0a1d",
   "metadata": {},
   "source": [
    "<img src=\"https://raw.githubusercontent.com/xuyouqian/picgo/master/20210627123101.png\"/>"
   ]
  },
  {
   "cell_type": "markdown",
   "id": "2d5df596",
   "metadata": {},
   "source": [
    "线性回归任务：\n",
    "\n",
    "<img src=\"https://raw.githubusercontent.com/xuyouqian/picgo/master/20210627114438.png\"/>\n",
    "<img src=\"https://raw.githubusercontent.com/xuyouqian/picgo/master/20210627123532.png\"/>\n",
    "<img src=\"https://raw.githubusercontent.com/xuyouqian/picgo/master/20210627114934.png\"/>\n",
    "<img src=\"https://raw.githubusercontent.com/xuyouqian/picgo/master/20210627123559.png\"/>\n",
    "<img src=\"https://raw.githubusercontent.com/xuyouqian/picgo/master/20210627115145.png\"/>\n",
    "\n",
    "令\n",
    "\n",
    "<img src=\"https://raw.githubusercontent.com/xuyouqian/picgo/master/20210627115206.png\"/>"
   ]
  },
  {
   "cell_type": "markdown",
   "id": "616a94ab",
   "metadata": {},
   "source": [
    "<img src=\"https://raw.githubusercontent.com/xuyouqian/picgo/master/20210627123139.png\"/>"
   ]
  },
  {
   "cell_type": "markdown",
   "id": "25bbf8ee",
   "metadata": {},
   "source": [
    "接下来拟合下面一组数据\n",
    "\n",
    "<img src=\"https://raw.githubusercontent.com/xuyouqian/picgo/master/20210627120325.png\"/>"
   ]
  },
  {
   "cell_type": "code",
   "execution_count": 5,
   "id": "49f2600d",
   "metadata": {},
   "outputs": [
    {
     "name": "stdout",
     "output_type": "stream",
     "text": [
      "最优解a\n",
      " [0.0555418  0.74458204]\n"
     ]
    }
   ],
   "source": [
    "import numpy as np\n",
    "\n",
    "x = [2.6, 2.72, 2.75, 2.67, 2.68]\n",
    "y = [2, 2.1, 2.1, 2.03, 2.04]\n",
    "count = len(x)\n",
    "\n",
    "C = np.zeros((count,2))\n",
    "\n",
    "for j in range(count):\n",
    "    C[j][1] = x[j]\n",
    "    C[j][0] = 1\n",
    "\n",
    "y = np.array(y).T\n",
    "\n",
    "def orthogonal_projection(y, c):\n",
    "    cTc = c.T.dot(c)\n",
    "    cTc_ni = np.linalg.inv(cTc)\n",
    "    a = cTc_ni.dot(c.T).dot(y)\n",
    "    return a\n",
    "\n",
    "print('最优解a\\n',orthogonal_projection(y,C))"
   ]
  },
  {
   "cell_type": "markdown",
   "id": "10c2ade1",
   "metadata": {},
   "source": [
    "也可以拟高次的方程，比如拟合抛物线\n",
    "\n",
    "<img src=\"https://raw.githubusercontent.com/xuyouqian/picgo/master/20210627122130.png\"/>"
   ]
  },
  {
   "cell_type": "code",
   "execution_count": null,
   "id": "574c8678",
   "metadata": {},
   "outputs": [],
   "source": []
  }
 ],
 "metadata": {
  "kernelspec": {
   "display_name": "Python 3",
   "language": "python",
   "name": "python3"
  },
  "language_info": {
   "codemirror_mode": {
    "name": "ipython",
    "version": 3
   },
   "file_extension": ".py",
   "mimetype": "text/x-python",
   "name": "python",
   "nbconvert_exporter": "python",
   "pygments_lexer": "ipython3",
   "version": "3.6.8"
  }
 },
 "nbformat": 4,
 "nbformat_minor": 5
}
