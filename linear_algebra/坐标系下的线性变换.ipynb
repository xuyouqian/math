{
 "cells": [
  {
   "cell_type": "markdown",
   "id": "6b6d0366",
   "metadata": {},
   "source": [
    "# 坐标系下的线性变换"
   ]
  },
  {
   "cell_type": "markdown",
   "id": "aba960ea",
   "metadata": {},
   "source": [
    "<img src=\"https://raw.githubusercontent.com/xuyouqian/picgo/master/20210625111314.png\"/>"
   ]
  },
  {
   "cell_type": "markdown",
   "id": "d0d5324a",
   "metadata": {},
   "source": [
    "要求解这个对称转化对应的矩阵T有点复杂，但是如果L是x轴，就会变得很简单\n",
    "\n",
    "其实在其他坐标系，L就有可能是x轴"
   ]
  },
  {
   "cell_type": "markdown",
   "id": "f4c593ff",
   "metadata": {},
   "source": [
    "<img src=\"https://raw.githubusercontent.com/xuyouqian/picgo/master/20210625121408.png\"/>"
   ]
  },
  {
   "cell_type": "markdown",
   "id": "07e30a26",
   "metadata": {},
   "source": [
    "<img src=\"https://raw.githubusercontent.com/xuyouqian/picgo/master/20210625112459.png\"/>"
   ]
  },
  {
   "cell_type": "markdown",
   "id": "ce176849",
   "metadata": {},
   "source": [
    "<img src=\"https://raw.githubusercontent.com/xuyouqian/picgo/master/20210625121501.png\"/>"
   ]
  },
  {
   "cell_type": "markdown",
   "id": "3c161532",
   "metadata": {},
   "source": [
    "<img src=\"https://raw.githubusercontent.com/xuyouqian/picgo/master/20210625113200.png\"/>"
   ]
  },
  {
   "cell_type": "markdown",
   "id": "7972b1f5",
   "metadata": {},
   "source": [
    "用代码实现:"
   ]
  },
  {
   "cell_type": "code",
   "execution_count": 4,
   "id": "c372ff9f",
   "metadata": {},
   "outputs": [
    {
     "name": "stdout",
     "output_type": "stream",
     "text": [
      "笛卡尔空间的T为:\n",
      " [[ 0.6  0.8]\n",
      " [ 0.8 -0.6]]\n",
      "[1,0.5] 关于y=1/2x对称以后是\n",
      " [[1. ]\n",
      " [0.5]]\n"
     ]
    }
   ],
   "source": [
    "# 直角坐标系转化成 y=1/2x  为x轴的坐标系\n",
    "import numpy as np\n",
    "\n",
    "# 新坐标系下的两个基向量\n",
    "b_1 = np.array([[2], [1]])\n",
    "b_2 = np.array([[-1], [2]])\n",
    "b = np.array([[2, -1], [1, 2]])\n",
    "\n",
    "# b 的逆\n",
    "b_ni = np.linalg.inv(b)\n",
    "\n",
    "# 关于x 轴求对称的矩阵转化\n",
    "t = np.array([\n",
    "    [1, 0],\n",
    "    [0, -1]\n",
    "])\n",
    "# 完整的原坐标系的transform\n",
    "new_t = b.dot(t).dot(b_ni)\n",
    "print('笛卡尔空间的T为:\\n', new_t)\n",
    "\n",
    "\n",
    "# 求对称\n",
    "def duichen(x):\n",
    "    return new_t.dot(x)\n",
    "\n",
    "\n",
    "print('[1,0.5] 关于y=1/2x对称以后是\\n', duichen(np.array([[1], [0.5]])))"
   ]
  },
  {
   "cell_type": "markdown",
   "id": "19e4f1c5",
   "metadata": {},
   "source": [
    "另一个例子"
   ]
  },
  {
   "cell_type": "markdown",
   "id": "58131a20",
   "metadata": {},
   "source": [
    "<img src=\"https://raw.githubusercontent.com/xuyouqian/picgo/master/20210625115428.png\"/>"
   ]
  },
  {
   "cell_type": "markdown",
   "id": "d84b1cdc",
   "metadata": {},
   "source": [
    "<img src=\"https://raw.githubusercontent.com/xuyouqian/picgo/master/20210625121758.png\"/>"
   ]
  },
  {
   "cell_type": "code",
   "execution_count": 7,
   "id": "aff45b66",
   "metadata": {},
   "outputs": [
    {
     "data": {
      "text/plain": [
       "array([[ 1. ,  0. ,  2. ],\n",
       "       [ 0.5,  1.5, -1.5],\n",
       "       [ 0.5,  0.5,  0.5]])"
      ]
     },
     "execution_count": 7,
     "metadata": {},
     "output_type": "execute_result"
    }
   ],
   "source": [
    "B = np.array([\n",
    "    [1,1,0],\n",
    "    [1,0,1],\n",
    "    [0,1,1]\n",
    "])\n",
    "B_ni = np.linalg.inv(B)\n",
    "C = np.array([\n",
    "    [1,3,2],\n",
    "    [2,-1,0],\n",
    "    [1,1,1]\n",
    "])\n",
    "T_B = B_ni.dot(C)\n",
    "T = B.dot(T_B).dot(B_ni)\n",
    "T "
   ]
  },
  {
   "cell_type": "code",
   "execution_count": 8,
   "id": "53366376",
   "metadata": {},
   "outputs": [
    {
     "data": {
      "text/plain": [
       "array([[ 1.,  3.,  2.],\n",
       "       [ 2., -1.,  0.],\n",
       "       [ 1.,  1.,  1.]])"
      ]
     },
     "execution_count": 8,
     "metadata": {},
     "output_type": "execute_result"
    }
   ],
   "source": [
    "# 验证\n",
    "T.dot(B)"
   ]
  },
  {
   "cell_type": "code",
   "execution_count": 9,
   "id": "e0d507ac",
   "metadata": {},
   "outputs": [
    {
     "data": {
      "text/plain": [
       "array([[ 1,  3,  2],\n",
       "       [ 2, -1,  0],\n",
       "       [ 1,  1,  1]])"
      ]
     },
     "execution_count": 9,
     "metadata": {},
     "output_type": "execute_result"
    }
   ],
   "source": [
    "C"
   ]
  },
  {
   "cell_type": "code",
   "execution_count": 10,
   "id": "cb359505",
   "metadata": {},
   "outputs": [
    {
     "data": {
      "text/plain": [
       "array([[ True,  True,  True],\n",
       "       [ True,  True,  True],\n",
       "       [ True,  True,  True]])"
      ]
     },
     "execution_count": 10,
     "metadata": {},
     "output_type": "execute_result"
    }
   ],
   "source": [
    "T.dot(B) == C"
   ]
  },
  {
   "cell_type": "code",
   "execution_count": null,
   "id": "2396d3d5",
   "metadata": {},
   "outputs": [],
   "source": []
  }
 ],
 "metadata": {
  "kernelspec": {
   "display_name": "Python 3",
   "language": "python",
   "name": "python3"
  },
  "language_info": {
   "codemirror_mode": {
    "name": "ipython",
    "version": 3
   },
   "file_extension": ".py",
   "mimetype": "text/x-python",
   "name": "python",
   "nbconvert_exporter": "python",
   "pygments_lexer": "ipython3",
   "version": "3.6.8"
  }
 },
 "nbformat": 4,
 "nbformat_minor": 5
}
