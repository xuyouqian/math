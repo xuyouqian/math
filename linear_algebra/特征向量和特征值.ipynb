{
 "cells": [
  {
   "cell_type": "markdown",
   "id": "cee04f13",
   "metadata": {},
   "source": [
    "## 定义"
   ]
  },
  {
   "cell_type": "markdown",
   "id": "af7fb92b",
   "metadata": {},
   "source": [
    "如果Av=λv (v 是向量,不为零, λ 是标量，不为0)\n",
    "- v 就是A的特征向量\n",
    "- λ 就是A跟v对应的特征值"
   ]
  },
  {
   "cell_type": "markdown",
   "id": "70eae2ce",
   "metadata": {},
   "source": [
    "<img src=\"https://raw.githubusercontent.com/xuyouqian/picgo/master/20210624140307.png\"/>"
   ]
  },
  {
   "cell_type": "markdown",
   "id": "563cb5ed",
   "metadata": {},
   "source": [
    "- A必须是方阵\n",
    "- 4 是特征值\n",
    "- [1 -1 1]是特征向量"
   ]
  },
  {
   "cell_type": "markdown",
   "id": "ec3eedd4",
   "metadata": {},
   "source": [
    "### 特征值和特征向量的举例\n",
    "#### 蒙娜丽莎"
   ]
  },
  {
   "cell_type": "markdown",
   "id": "4b169335",
   "metadata": {},
   "source": [
    "<img src=\"https://raw.githubusercontent.com/xuyouqian/picgo/master/20210624140818.png\"/>"
   ]
  },
  {
   "cell_type": "markdown",
   "id": "f2744b46",
   "metadata": {},
   "source": [
    "对上图的每一个像素进行位置转化:(x,y)--->(x+0.5y,y)<br/>\n",
    "每个点的y坐标不变，x坐标变为(x+y),即离x轴越远变化越大<br/>\n",
    "$$\n",
    "T\\left[ \\begin{matrix} x\\\\y \\end{matrix} \\right] = \\left[ \\begin{matrix} x+0.5y\\\\y \\end{matrix} \\right]\\\\\n",
    "T = \\left[ \\begin{matrix} 1&0.5\\\\0&1 \\end{matrix} \\right]\n",
    "$$"
   ]
  },
  {
   "cell_type": "markdown",
   "id": "caf8f8c2",
   "metadata": {},
   "source": [
    "易知x轴上的向量经过转化以后不会变化，因此[λ,0]是T的特征向量，1是T对应的特征值<br/>"
   ]
  },
  {
   "cell_type": "markdown",
   "id": "21ae3986",
   "metadata": {},
   "source": [
    "#### 关于直线翻转"
   ]
  },
  {
   "cell_type": "markdown",
   "id": "4e938aa5",
   "metadata": {},
   "source": [
    "让某个向量关于y = 0.5x 做翻转，易知b1 翻转后不变，b2 翻转后变为-b2"
   ]
  },
  {
   "cell_type": "markdown",
   "id": "7249537e",
   "metadata": {},
   "source": [
    "<img src=\"https://raw.githubusercontent.com/xuyouqian/picgo/master/20210624142451.png\"/>"
   ]
  },
  {
   "cell_type": "markdown",
   "id": "58fdeb6f",
   "metadata": {},
   "source": [
    "#### 放大缩小变换"
   ]
  },
  {
   "cell_type": "markdown",
   "id": "d1a3c211",
   "metadata": {},
   "source": [
    "<img src=\"https://raw.githubusercontent.com/xuyouqian/picgo/master/20210624142749.png\"/>"
   ]
  },
  {
   "cell_type": "markdown",
   "id": "ebdaf024",
   "metadata": {},
   "source": [
    "放大缩小变换的转化矩阵，任何向量都是他的特征向量，特征值都是1.<br/>\n",
    "因为放大缩小以后的向量都是原向量的线性表示。"
   ]
  },
  {
   "cell_type": "markdown",
   "id": "bbf4f523",
   "metadata": {},
   "source": [
    "#### 旋转变化\n",
    "<img src=\"https://raw.githubusercontent.com/xuyouqian/picgo/master/20210624143025.png\"/>"
   ]
  },
  {
   "cell_type": "markdown",
   "id": "81627eec",
   "metadata": {},
   "source": [
    "旋转变化不存在特征向量和特征值"
   ]
  },
  {
   "cell_type": "markdown",
   "id": "771f77a5",
   "metadata": {},
   "source": [
    "## 在给定特征值的基础上如何寻找特征向量"
   ]
  },
  {
   "cell_type": "markdown",
   "id": "58491da8",
   "metadata": {},
   "source": [
    "### 特征值和特征向量的关系\n",
    "- 对于某个特征值有多个特征向量对应\n",
    "$$\n",
    "Ax = \\lambda x\\\\\n",
    "我把x再乘以一个\\beta ，等式仍然成立：\\\\\n",
    "A\\beta x = \\lambda x\n",
    "$$\n",
    "\n",
    "- 对于某个特征向量只有一个特征值与之对应 这个后面会做解释"
   ]
  },
  {
   "cell_type": "markdown",
   "id": "bfa4af3a",
   "metadata": {},
   "source": [
    "### 特征空间"
   ]
  },
  {
   "cell_type": "markdown",
   "id": "b5f48194",
   "metadata": {},
   "source": [
    "- 已知 λ 是A的特征值\n",
    "- 求出 λ对应的所有特征向量\n"
   ]
  },
  {
   "cell_type": "markdown",
   "id": "233f43b9",
   "metadata": {},
   "source": [
    "$$\n",
    "Ax = \\lambda x\\\\\n",
    "Ax-\\lambda x = 0\\\\\n",
    "(A-\\lambda I)x = 0\\\\\n",
    "$$"
   ]
  },
  {
   "cell_type": "markdown",
   "id": "444b9ba1",
   "metadata": {},
   "source": [
    "满足条件的所有x + {0} 就是特征空间<br/>\n",
    "子空间必须包含0 向量，所有要把0 加进来"
   ]
  },
  {
   "cell_type": "markdown",
   "id": "7105a60a",
   "metadata": {},
   "source": [
    "## 判断一个标量是否是特征值"
   ]
  },
  {
   "cell_type": "markdown",
   "id": "1ee0f40d",
   "metadata": {},
   "source": [
    "$$\n",
    "\n",
    "(A-\\lambda I)x = 0\\\\\n",
    "即判断以上方程是否有非0解，等价于是否有无数个解\\\\\n",
    "等价于A-\\lambda I 的列向量不独立，等价于A-\\lambda I行列式等于0\\\\\n",
    "\n",
    "$$"
   ]
  },
  {
   "cell_type": "markdown",
   "id": "3b24aa4a",
   "metadata": {},
   "source": [
    "**举例：**"
   ]
  },
  {
   "cell_type": "markdown",
   "id": "52e9c260",
   "metadata": {},
   "source": [
    "验证3是否是 B的特征向量并且找出特征空间\n"
   ]
  },
  {
   "attachments": {},
   "cell_type": "markdown",
   "id": "f863fefa",
   "metadata": {},
   "source": [
    "$$\n",
    "B = \\left[ \\begin{matrix} 3&0&0\\\\0&1&2\\\\0&2&1 \\end{matrix} \\right]\\\\\n",
    "(B-3I)x = 0\\\\\n",
    "把(B-3I)转化为行简化阶梯形：\\\\\n",
    "\\left[ \\begin{matrix} 0&1&-1\\\\0&0&0\\\\0&0&0 \\end{matrix} \\right]\\\\\n",
    "\\left[ \\begin{matrix} x_1\\\\x_2\\\\x_3 \\end{matrix} \\right] =x_1\\left[ \\begin{matrix} 1\\\\0\\\\0 \\end{matrix} \\right]+x_3\\left[ \\begin{matrix} 0\\\\1\\\\1 \\end{matrix} \\right]\\\\\n",
    "\\left[ \\begin{matrix} 1\\\\0\\\\0 \\end{matrix} \\right]和\\left[ \\begin{matrix} 0\\\\1\\\\1 \\end{matrix} \\right]的所有线性组合即特征空间$$"
   ]
  },
  {
   "cell_type": "markdown",
   "id": "4e488820",
   "metadata": {},
   "source": []
  },
  {
   "cell_type": "markdown",
   "id": "38e1ca10",
   "metadata": {},
   "source": [
    "## 如何求解特征值"
   ]
  },
  {
   "cell_type": "markdown",
   "id": "17f34f3b",
   "metadata": {},
   "source": [
    "$$\n",
    "(A-\\lambda I)x = 0\\\\\n",
    "即判断以上方程是否有非0解，等价于是否有无数个解\\\\\n",
    "等价于A-\\lambda I 的列向量不独立，等价于A-\\lambda I行列式等于0\\\\\n",
    "$$"
   ]
  },
  {
   "cell_type": "markdown",
   "id": "d5e83e8e",
   "metadata": {},
   "source": [
    "通常是求解满足行列式等于0的𝜆"
   ]
  },
  {
   "cell_type": "markdown",
   "id": "c3836f98",
   "metadata": {},
   "source": [
    "举例：求A的特征值"
   ]
  },
  {
   "attachments": {},
   "cell_type": "markdown",
   "id": "67e8c150",
   "metadata": {},
   "source": [
    "$$\n",
    "A = \\left[ \\begin{matrix} -4&3\\\\3&6 \\end{matrix} \\right]\\\\\n",
    "$$"
   ]
  },
  {
   "cell_type": "markdown",
   "id": "1fb9964c",
   "metadata": {},
   "source": [
    "$$\n",
    "(-4 -\\lambda)(6-\\lambda) + 9 = 0\\\\\n",
    "\\lambda^2-2\\lambda-15=0\\\\\n",
    "(\\lambda-5)(\\lambda+3) = 0\\\\\n",
    "特征值为5和-3\n",
    "$$"
   ]
  },
  {
   "cell_type": "markdown",
   "id": "18a27a21",
   "metadata": {},
   "source": [
    "而A的特征值为-15 = 5✖-3 这可以来验证我们求解的结果是否正确"
   ]
  },
  {
   "cell_type": "markdown",
   "id": "5f2dfd37",
   "metadata": {},
   "source": [
    "#### 并不是所有的方阵都有特征值"
   ]
  },
  {
   "attachments": {},
   "cell_type": "markdown",
   "id": "3ee1fc8d",
   "metadata": {},
   "source": [
    "$$\n",
    "A = \\left[ \\begin{matrix} 0&-1\\\\1&0 \\end{matrix} \\right]\\\\\n",
    "$$"
   ]
  },
  {
   "cell_type": "markdown",
   "id": "c9abea76",
   "metadata": {},
   "source": [
    "$$\n",
    "\\lambda^2 + 1 = 0 无解\n",
    "$$"
   ]
  },
  {
   "cell_type": "markdown",
   "id": "46ba0f54",
   "metadata": {},
   "source": [
    "### 相似矩阵有同样的特征值"
   ]
  },
  {
   "cell_type": "markdown",
   "id": "861ea4ad",
   "metadata": {},
   "source": [
    "$$B=P^{−1}AP$$\n",
    "A B 互为相似矩阵"
   ]
  },
  {
   "cell_type": "markdown",
   "id": "5eaefac0",
   "metadata": {},
   "source": [
    "证明如下\n",
    "det 表示行列式\n",
    "<img src=\"https://raw.githubusercontent.com/xuyouqian/picgo/master/20210624152535.png\"/>"
   ]
  },
  {
   "cell_type": "code",
   "execution_count": null,
   "id": "2cf951b9",
   "metadata": {},
   "outputs": [],
   "source": []
  }
 ],
 "metadata": {
  "kernelspec": {
   "display_name": "Python 3",
   "language": "python",
   "name": "python3"
  },
  "language_info": {
   "codemirror_mode": {
    "name": "ipython",
    "version": 3
   },
   "file_extension": ".py",
   "mimetype": "text/x-python",
   "name": "python",
   "nbconvert_exporter": "python",
   "pygments_lexer": "ipython3",
   "version": "3.6.8"
  }
 },
 "nbformat": 4,
 "nbformat_minor": 5
}
